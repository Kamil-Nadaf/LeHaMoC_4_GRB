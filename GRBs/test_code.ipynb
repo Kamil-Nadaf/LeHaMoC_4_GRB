{
 "cells": [
  {
   "cell_type": "code",
   "execution_count": 1,
   "id": "7cf1bbb9",
   "metadata": {
    "colab": {
     "base_uri": "https://localhost:8080/"
    },
    "executionInfo": {
     "elapsed": 25930,
     "status": "ok",
     "timestamp": 1748373065218,
     "user": {
      "displayName": "Kamil Nadaf",
      "userId": "03892101429824356978"
     },
     "user_tz": -330
    },
    "id": "7cf1bbb9",
    "outputId": "95a4e3d3-ad50-44bd-97c0-8995dd6a6796"
   },
   "outputs": [
    {
     "name": "stdout",
     "output_type": "stream",
     "text": [
      "Mounted at /content/drive\n"
     ]
    }
   ],
   "source": [
    "from google.colab import drive\n",
    "drive.mount('/content/drive')"
   ]
  },
  {
   "cell_type": "code",
   "execution_count": 2,
   "id": "8554ca11",
   "metadata": {
    "colab": {
     "base_uri": "https://localhost:8080/"
    },
    "executionInfo": {
     "elapsed": 95062,
     "status": "ok",
     "timestamp": 1748373200093,
     "user": {
      "displayName": "Kamil Nadaf",
      "userId": "03892101429824356978"
     },
     "user_tz": -330
    },
    "id": "8554ca11",
    "outputId": "bd7a077e-dd9e-437c-cc0b-29208eda48e6"
   },
   "outputs": [
    {
     "name": "stdout",
     "output_type": "stream",
     "text": [
      "🎉 Environment ready: 100%|███████████████████████████████████████████| 8/8 [01:34<00:00, 11.76s/it]\n"
     ]
    }
   ],
   "source": [
    "!python /content/drive/MyDrive/LeHaMoC_4_GRB/v_env.py"
   ]
  },
  {
   "cell_type": "code",
   "execution_count": 4,
   "id": "N5Okh5A7KGdi",
   "metadata": {
    "colab": {
     "base_uri": "https://localhost:8080/"
    },
    "executionInfo": {
     "elapsed": 3737,
     "status": "ok",
     "timestamp": 1748373476492,
     "user": {
      "displayName": "Kamil Nadaf",
      "userId": "03892101429824356978"
     },
     "user_tz": -330
    },
    "id": "N5Okh5A7KGdi",
    "outputId": "6ab6dea2-f23d-45f9-d972-2ba3c7b82a2f"
   },
   "outputs": [
    {
     "name": "stdout",
     "output_type": "stream",
     "text": [
      "==================\n",
      "Python 3.9.21\n",
      "==================\n",
      "numpy: 1.21.5\n",
      "astropy: 5.0.4\n",
      "matplotlib: 3.5.1\n",
      "pandas: 1.4.2\n",
      "tqdm: 4.64.0\n",
      "shapely: 1.7.1\n",
      "scipy: 1.7.3\n"
     ]
    }
   ],
   "source": [
    "# @title\n",
    "print(\"==================\")\n",
    "!python --version\n",
    "print(\"==================\")\n",
    "packages = [\"numpy\", \"astropy\", \"matplotlib\", \"pandas\", \"tqdm\", \"shapely\", \"scipy\"]\n",
    "for package in packages:\n",
    "    try:\n",
    "        # Run pip show and capture output\n",
    "        result = !pip show {package} | grep Version\n",
    "        # Extract version number from the output (e.g., \"Version: 1.21.5\" -> \"1.21.5\")\n",
    "        version = result[0].split(\": \")[1] if result else \"Not installed\"\n",
    "        print(f\"{package}: {version}\")\n",
    "    except:\n",
    "        print(f\"{package}: Not installed\")"
   ]
  },
  {
   "cell_type": "code",
   "execution_count": null,
   "id": "uIxXmI7mKgyF",
   "metadata": {
    "id": "uIxXmI7mKgyF"
   },
   "outputs": [],
   "source": [
    "#from here on you can run your code"
   ]
  }
 ],
 "metadata": {
  "colab": {
   "provenance": []
  },
  "kernelspec": {
   "display_name": "Python 3",
   "language": "python",
   "name": "python3"
  },
  "language_info": {
   "codemirror_mode": {
    "name": "ipython",
    "version": 3
   },
   "file_extension": ".py",
   "mimetype": "text/x-python",
   "name": "python",
   "nbconvert_exporter": "python",
   "pygments_lexer": "ipython3",
   "version": "3.9.22"
  }
 },
 "nbformat": 4,
 "nbformat_minor": 5
}
